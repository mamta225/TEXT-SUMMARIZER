{
 "cells": [
  {
   "cell_type": "code",
   "execution_count": 1,
   "id": "c93d273a",
   "metadata": {},
   "outputs": [],
   "source": [
    "import pandas as pd\n",
    "import numpy as np\n",
    "import networkx as nx\n",
    "from nltk.corpus import stopwords\n",
    "from nltk.cluster.util import cosine_distance"
   ]
  },
  {
   "cell_type": "code",
   "execution_count": 2,
   "id": "498c3842",
   "metadata": {},
   "outputs": [],
   "source": [
    "def read_article(fname):\n",
    "    file=open(fname,\"r\",encoding=\"utf-8\")\n",
    "    filedata=file.readlines()\n",
    "    filedata=[x for x in filedata if x !='\\n']\n",
    "    filedata=[x.replace('\\n',' ') for x in filedata]\n",
    "    para=[]\n",
    "    for para in filedata:\n",
    "        article=para.split(\".\")\n",
    "        sentences=[]\n",
    "        for sentence in article:\n",
    "            print(sentence)\n",
    "            sentences.append(sentence.replace(\"[a-ZA-Z]\",\" \").split(\" \"))\n",
    "        sentences.pop()\n",
    "        return sentences"
   ]
  },
  {
   "cell_type": "code",
   "execution_count": 3,
   "id": "97fb950c",
   "metadata": {},
   "outputs": [],
   "source": [
    "def build_similarity_matrix(sentences, stop_words):\n",
    "    similarity_matrix=np.zeros((len(sentences),len(sentences)))\n",
    "    \n",
    "    for idx1 in range(len(sentences)):\n",
    "        for idx2 in range(len(sentences)):\n",
    "            if idx1==idx2:\n",
    "                 continue\n",
    "            similarity_matrix[idx1][idx2]=sentence_similarity(sentences[idx1],sentences[idx2],stop_words)\n",
    "            \n",
    "    return similarity_matrix"
   ]
  },
  {
   "cell_type": "code",
   "execution_count": 4,
   "id": "9d5fc914",
   "metadata": {},
   "outputs": [],
   "source": [
    "def sentence_similarity(sent1, sent2, stopwords=None):\n",
    "    if stopwords is None:\n",
    "        stopwords=[]\n",
    "        \n",
    "    sent1=[w.lower() for w in sent1]\n",
    "    sent2=[w.lower() for w in sent2]\n",
    "    \n",
    "    all_words=list(set(sent1+sent2))\n",
    "    \n",
    "    vector1=[0]*len(all_words)\n",
    "    vector2=[0]*len(all_words)\n",
    "    \n",
    "    for w in sent1:\n",
    "        if w in stopwords:\n",
    "            continue\n",
    "        vector1[all_words.index(w)]+=1\n",
    "        \n",
    "    for w in sent2:\n",
    "        if w in stopwords:\n",
    "            continue\n",
    "        vector2[all_words.index(w)]+=1\n",
    "        \n",
    "    return 1-cosine_distance(vector1, vector2)"
   ]
  },
  {
   "cell_type": "code",
   "execution_count": 5,
   "id": "64c1de11",
   "metadata": {},
   "outputs": [],
   "source": [
    "def generate_summary(file_name,top_n=30):\n",
    "    stop_words=stopwords.words('english')\n",
    "    summarize_text=[]\n",
    "    \n",
    "    sentences=read_article(file_name)\n",
    "    \n",
    "    sentence_similarity_matrix=build_similarity_matrix(sentences, stop_words)\n",
    "    \n",
    "    sentence_similarity_graph=nx.from_numpy_array(sentence_similarity_matrix)\n",
    "    scores=nx.pagerank(sentence_similarity_graph)\n",
    "    \n",
    "    ranked_sentences=sorted(((scores[i],s) for i,s in enumerate(sentences)),reverse=True)\n",
    "    print(\"Indices of top ranked sentences are\",ranked_sentences)\n",
    "    \n",
    "    for i in range(top_n):\n",
    "        summarize_text.append(\" \".join(ranked_sentences[i][1]))\n",
    "        \n",
    "    print(\"Summarized Text :\\n\", \". \".join(summarize_text))"
   ]
  },
  {
   "cell_type": "code",
   "execution_count": 6,
   "id": "07731571",
   "metadata": {},
   "outputs": [
    {
     "name": "stdout",
     "output_type": "stream",
     "text": [
      "﻿Feminism is a social and political movement that advocates for the rights of women on the grounds of equality of sexes\n",
      " It does not deny the biological differences between the sexes but demands equality in opportunities\n",
      " It covers everything from social and political to economic arenas\n",
      " In fact, feminist campaigns have been a crucial part of history inwomen empowerment\n",
      " The feminist campaigns of the twentieth century made the right to vote, public property, work and education possible\n",
      " Thus, an essay on feminism will discuss its importance and impact\n",
      "Feminism is not just important for women but for every sex, gender, caste, creed and more\n",
      " It empowers the people and society as a whole\n",
      " A very common misconception is that only women can be feminists\n",
      "It is absolutely wrong but feminism does not just benefit women\n",
      " It strives for equality of the sexes, not the superiority of women\n",
      " Feminism takes the gender roles which have been around for many years and tries to deconstruct them\n",
      "This allows people to live freely and empower lives without getting tied down by traditional restrictions\n",
      " In other words, it benefits women as well as men\n",
      " For instance, while it advocates that women must be free to earn it also advocates that why should men be the sole breadwinner of the family? It tries to give freedom to all\n",
      "Most importantly, it is essential for young people to get involved in the feminist movement\n",
      " This way, we can achieve faster results\n",
      " It is no less than a dream to live in a worldfull of equality\n",
      "Thus, we must all look at our own cultures and communities for making this dream a reality\n",
      " We have not yet reached the result but we are on the journey, so we must continue on this mission to achieve successful results\n",
      "Feminism has had a life-changing impact on everyone, especially women\n",
      " If we look at history, we see that it is what gave women the right to vote\n",
      " It was no small feat but was achieved successfully by women\n",
      "Further, if we look at modern feminism, we see how feminism involves in life-altering campaigns\n",
      " For instance, campaigns that support the abortion of unwanted pregnancy and reproductive rights allow women to have freedom of choice\n",
      "Moreover, feminism constantly questions patriarchy and strives to renounce gender roles\n",
      " It allows men to be whoever they wish to be without getting judged\n",
      " It is not taboo for men to cry anymore because they must be allowed to express themselves freely\n",
      "Similarly, it also helps the LGBTQ community greatly as it advocates for their right too\n",
      " Feminism gives a place for everyone and it is best to practice intersectional feminism to understand everyone’s struggle\n",
      "The key message of feminism must be to highlight the choice in bringing personal meaning to feminism\n",
      " It is to recognize other’s right for doing the same thing\n",
      " The sad part is that despite feminism being a strong movement, there are still parts of the world where inequality and exploitation of women take places\n",
      " Thus, we must all try to practice intersectional feminism\n",
      "\n",
      "Indices of top ranked sentences are [(0.04476108276862773, ['', 'Thus,', 'we', 'must', 'all', 'try', 'to', 'practice', 'intersectional', 'feminism']), (0.043031613567447634, ['', 'It', 'strives', 'for', 'equality', 'of', 'the', 'sexes,', 'not', 'the', 'superiority', 'of', 'women']), (0.04164649526965964, ['', 'A', 'very', 'common', 'misconception', 'is', 'that', 'only', 'women', 'can', 'be', 'feminists']), (0.0413863932550702, ['', 'In', 'other', 'words,', 'it', 'benefits', 'women', 'as', 'well', 'as', 'men']), (0.040634372801370444, ['', 'If', 'we', 'look', 'at', 'history,', 'we', 'see', 'that', 'it', 'is', 'what', 'gave', 'women', 'the', 'right', 'to', 'vote']), (0.039964712853928164, ['', 'Thus,', 'an', 'essay', 'on', 'feminism', 'will', 'discuss', 'its', 'importance', 'and', 'impact']), (0.03859918928629247, ['', 'It', 'was', 'no', 'small', 'feat', 'but', 'was', 'achieved', 'successfully', 'by', 'women']), (0.0359877797144677, ['', 'Feminism', 'gives', 'a', 'place', 'for', 'everyone', 'and', 'it', 'is', 'best', 'to', 'practice', 'intersectional', 'feminism', 'to', 'understand', 'everyone’s', 'struggle']), (0.03499409164624697, ['', 'For', 'instance,', 'while', 'it', 'advocates', 'that', 'women', 'must', 'be', 'free', 'to', 'earn', 'it', 'also', 'advocates', 'that', 'why', 'should', 'men', 'be', 'the', 'sole', 'breadwinner', 'of', 'the', 'family?', 'It', 'tries', 'to', 'give', 'freedom', 'to', 'all']), (0.03494672457456673, ['', 'The', 'sad', 'part', 'is', 'that', 'despite', 'feminism', 'being', 'a', 'strong', 'movement,', 'there', 'are', 'still', 'parts', 'of', 'the', 'world', 'where', 'inequality', 'and', 'exploitation', 'of', 'women', 'take', 'places']), (0.03390262382084762, ['', 'Feminism', 'takes', 'the', 'gender', 'roles', 'which', 'have', 'been', 'around', 'for', 'many', 'years', 'and', 'tries', 'to', 'deconstruct', 'them']), (0.033129853756391034, ['', 'It', 'is', 'no', 'less', 'than', 'a', 'dream', 'to', 'live', 'in', 'a', 'worldfull', 'of', 'equality']), (0.03302626020672647, ['', 'It', 'is', 'to', 'recognize', 'other’s', 'right', 'for', 'doing', 'the', 'same', 'thing']), (0.0328437939389994, ['', 'It', 'empowers', 'the', 'people', 'and', 'society', 'as', 'a', 'whole']), (0.03239759187951903, ['', 'For', 'instance,', 'campaigns', 'that', 'support', 'the', 'abortion', 'of', 'unwanted', 'pregnancy', 'and', 'reproductive', 'rights', 'allow', 'women', 'to', 'have', 'freedom', 'of', 'choice']), (0.031175658941437676, ['', 'This', 'way,', 'we', 'can', 'achieve', 'faster', 'results']), (0.03070794193243353, ['', 'It', 'is', 'not', 'taboo', 'for', 'men', 'to', 'cry', 'anymore', 'because', 'they', 'must', 'be', 'allowed', 'to', 'express', 'themselves', 'freely']), (0.03040120034880909, ['', 'It', 'allows', 'men', 'to', 'be', 'whoever', 'they', 'wish', 'to', 'be', 'without', 'getting', 'judged']), (0.02951381260690508, ['It', 'is', 'absolutely', 'wrong', 'but', 'feminism', 'does', 'not', 'just', 'benefit', 'women']), (0.02862261572583941, ['Feminism', 'has', 'had', 'a', 'life-changing', 'impact', 'on', 'everyone,', 'especially', 'women']), (0.02827931230173568, ['', 'In', 'fact,', 'feminist', 'campaigns', 'have', 'been', 'a', 'crucial', 'part', 'of', 'history', 'inwomen', 'empowerment']), (0.028035454328813533, ['', 'It', 'does', 'not', 'deny', 'the', 'biological', 'differences', 'between', 'the', 'sexes', 'but', 'demands', 'equality', 'in', 'opportunities']), (0.02742551021019963, ['', 'It', 'covers', 'everything', 'from', 'social', 'and', 'political', 'to', 'economic', 'arenas']), (0.027016099822052934, ['', 'We', 'have', 'not', 'yet', 'reached', 'the', 'result', 'but', 'we', 'are', 'on', 'the', 'journey,', 'so', 'we', 'must', 'continue', 'on', 'this', 'mission', 'to', 'achieve', 'successful', 'results']), (0.026759917709231095, ['', 'The', 'feminist', 'campaigns', 'of', 'the', 'twentieth', 'century', 'made', 'the', 'right', 'to', 'vote,', 'public', 'property,', 'work', 'and', 'education', 'possible']), (0.02467719662954479, ['Feminism', 'is', 'not', 'just', 'important', 'for', 'women', 'but', 'for', 'every', 'sex,', 'gender,', 'caste,', 'creed', 'and', 'more']), (0.024357565824297895, ['The', 'key', 'message', 'of', 'feminism', 'must', 'be', 'to', 'highlight', 'the', 'choice', 'in', 'bringing', 'personal', 'meaning', 'to', 'feminism']), (0.022978598804738216, ['\\ufeffFeminism', 'is', 'a', 'social', 'and', 'political', 'movement', 'that', 'advocates', 'for', 'the', 'rights', 'of', 'women', 'on', 'the', 'grounds', 'of', 'equality', 'of', 'sexes']), (0.019062718270260532, ['Further,', 'if', 'we', 'look', 'at', 'modern', 'feminism,', 'we', 'see', 'how', 'feminism', 'involves', 'in', 'life-altering', 'campaigns']), (0.01652927826747782, ['Moreover,', 'feminism', 'constantly', 'questions', 'patriarchy', 'and', 'strives', 'to', 'renounce', 'gender', 'roles']), (0.013102171190129585, ['Thus,', 'we', 'must', 'all', 'look', 'at', 'our', 'own', 'cultures', 'and', 'communities', 'for', 'making', 'this', 'dream', 'a', 'reality']), (0.010863790140841111, ['This', 'allows', 'people', 'to', 'live', 'freely', 'and', 'empower', 'lives', 'without', 'getting', 'tied', 'down', 'by', 'traditional', 'restrictions']), (0.009879248060635339, ['Similarly,', 'it', 'also', 'helps', 'the', 'LGBTQ', 'community', 'greatly', 'as', 'it', 'advocates', 'for', 'their', 'right', 'too']), (0.009359329544455506, ['Most', 'importantly,', 'it', 'is', 'essential', 'for', 'young', 'people', 'to', 'get', 'involved', 'in', 'the', 'feminist', 'movement'])]\n",
      "Summarized Text :\n",
      "  Thus, we must all try to practice intersectional feminism.  It strives for equality of the sexes, not the superiority of women.  A very common misconception is that only women can be feminists.  In other words, it benefits women as well as men.  If we look at history, we see that it is what gave women the right to vote.  Thus, an essay on feminism will discuss its importance and impact.  It was no small feat but was achieved successfully by women.  Feminism gives a place for everyone and it is best to practice intersectional feminism to understand everyone’s struggle\n"
     ]
    }
   ],
   "source": [
    "generate_summary(\"FIRST.txt\",8)"
   ]
  },
  {
   "cell_type": "code",
   "execution_count": null,
   "id": "c10e30d5",
   "metadata": {},
   "outputs": [],
   "source": []
  }
 ],
 "metadata": {
  "kernelspec": {
   "display_name": "Python 3 (ipykernel)",
   "language": "python",
   "name": "python3"
  },
  "language_info": {
   "codemirror_mode": {
    "name": "ipython",
    "version": 3
   },
   "file_extension": ".py",
   "mimetype": "text/x-python",
   "name": "python",
   "nbconvert_exporter": "python",
   "pygments_lexer": "ipython3",
   "version": "3.9.7"
  }
 },
 "nbformat": 4,
 "nbformat_minor": 5
}
